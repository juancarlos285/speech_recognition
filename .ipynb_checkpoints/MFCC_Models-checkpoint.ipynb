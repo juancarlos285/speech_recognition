{
 "cells": [
  {
   "cell_type": "code",
   "execution_count": 37,
   "metadata": {
    "colab": {
     "base_uri": "https://localhost:8080/"
    },
    "id": "gsKdYJGJLxY_",
    "outputId": "6841d5be-63ad-4ece-a80a-8f6ab5616e35"
   },
   "outputs": [
    {
     "name": "stdout",
     "output_type": "stream",
     "text": [
      "Drive already mounted at /content/drive; to attempt to forcibly remount, call drive.mount(\"/content/drive\", force_remount=True).\n"
     ]
    }
   ],
   "source": [
    "import warnings\n",
    "warnings.filterwarnings('ignore')\n",
    "\n",
    "import librosa\n",
    "import pandas as pd\n",
    "import matplotlib.pyplot as plt\n",
    "import seaborn as sns\n",
    "from IPython.display import Audio\n",
    "import numpy as np\n",
    "import os\n",
    "\n",
    "from sklearn.preprocessing import LabelEncoder, OneHotEncoder\n",
    "from sklearn.model_selection import train_test_split\n",
    "\n",
    "import tensorflow as tf\n",
    "\n",
    "from tensorflow.keras.models import Model, load_model\n",
    "from tensorflow.keras import Sequential\n",
    "from tensorflow.keras.layers import LSTM, Dense, Input, Dropout, Flatten, Reshape, TimeDistributed, GlobalMaxPooling1D,GlobalAveragePooling1D, Bidirectional\n",
    "\n",
    "from tensorflow.keras.applications import VGG16\n",
    "from tensorflow.keras.optimizers import Adam\n",
    "from tensorflow.keras.callbacks import ModelCheckpoint, EarlyStopping\n",
    "from tensorflow.keras.regularizers import l2\n"
   ]
  },
  {
   "cell_type": "code",
   "execution_count": 40,
   "metadata": {
    "id": "H4sG8i75MSUL"
   },
   "outputs": [],
   "source": [
    "X = np.load('X_mfccs.npy')\n",
    "y = np.load('y_mfccs.npy')"
   ]
  },
  {
   "cell_type": "code",
   "execution_count": 41,
   "metadata": {
    "id": "AStS1qTWLhHt"
   },
   "outputs": [],
   "source": [
    "X_train, X_test, y_train, y_test = train_test_split(X, y, test_size = 0.2, random_state = 42)"
   ]
  },
  {
   "cell_type": "markdown",
   "metadata": {
    "id": "SBL-gMfBMRWG"
   },
   "source": [
    "# Basic Model"
   ]
  },
  {
   "cell_type": "code",
   "execution_count": 48,
   "metadata": {
    "colab": {
     "base_uri": "https://localhost:8080/"
    },
    "id": "ziF_lY8WvoMu",
    "outputId": "cc1e64cd-705c-48df-a1cc-a309e42500e3"
   },
   "outputs": [
    {
     "name": "stdout",
     "output_type": "stream",
     "text": [
      "Model: \"sequential_6\"\n",
      "_________________________________________________________________\n",
      " Layer (type)                Output Shape              Param #   \n",
      "=================================================================\n",
      " global_max_pooling1d_5 (Gl  (None, 113)               0         \n",
      " obalMaxPooling1D)                                               \n",
      "                                                                 \n",
      " dense_15 (Dense)            (None, 64)                7296      \n",
      "                                                                 \n",
      " dense_16 (Dense)            (None, 32)                2080      \n",
      "                                                                 \n",
      " dense_17 (Dense)            (None, 10)                330       \n",
      "                                                                 \n",
      "=================================================================\n",
      "Total params: 9706 (37.91 KB)\n",
      "Trainable params: 9706 (37.91 KB)\n",
      "Non-trainable params: 0 (0.00 Byte)\n",
      "_________________________________________________________________\n"
     ]
    }
   ],
   "source": [
    "def basic_model():\n",
    "    model = Sequential()\n",
    "    model.add(GlobalMaxPooling1D(input_shape=(20, 113)))\n",
    "    model.add(Dense(64, activation='relu'))\n",
    "    model.add(Dense(32, activation='relu'))\n",
    "    model.add(Dense(10, activation='softmax'))\n",
    "\n",
    "\n",
    "    return model\n",
    "\n",
    "basic_model = basic_model()\n",
    "basic_model.compile(optimizer='adam', loss='categorical_crossentropy', metrics=['accuracy'])\n",
    "\n",
    "basic_model.summary()\n"
   ]
  },
  {
   "cell_type": "code",
   "execution_count": 49,
   "metadata": {
    "colab": {
     "base_uri": "https://localhost:8080/"
    },
    "id": "kJPwcc_TvoDY",
    "outputId": "388b5020-77fe-44a0-a873-49733c0e58f0"
   },
   "outputs": [
    {
     "name": "stdout",
     "output_type": "stream",
     "text": [
      "Epoch 1/30\n",
      "443/443 [==============================] - 2s 4ms/step - loss: 2.0581 - accuracy: 0.2609 - val_loss: 1.7941 - val_accuracy: 0.3795\n",
      "Epoch 2/30\n",
      "443/443 [==============================] - 1s 3ms/step - loss: 1.6771 - accuracy: 0.4072 - val_loss: 1.5982 - val_accuracy: 0.4419\n",
      "Epoch 3/30\n",
      "443/443 [==============================] - 1s 3ms/step - loss: 1.5087 - accuracy: 0.4648 - val_loss: 1.5230 - val_accuracy: 0.4563\n",
      "Epoch 4/30\n",
      "443/443 [==============================] - 1s 3ms/step - loss: 1.4172 - accuracy: 0.4980 - val_loss: 1.4628 - val_accuracy: 0.4789\n",
      "Epoch 5/30\n",
      "443/443 [==============================] - 1s 3ms/step - loss: 1.3573 - accuracy: 0.5191 - val_loss: 1.4243 - val_accuracy: 0.4835\n",
      "Epoch 6/30\n",
      "443/443 [==============================] - 1s 3ms/step - loss: 1.3028 - accuracy: 0.5396 - val_loss: 1.3975 - val_accuracy: 0.5027\n",
      "Epoch 7/30\n",
      "443/443 [==============================] - 1s 3ms/step - loss: 1.2605 - accuracy: 0.5546 - val_loss: 1.3763 - val_accuracy: 0.5137\n",
      "Epoch 8/30\n",
      "443/443 [==============================] - 1s 3ms/step - loss: 1.2238 - accuracy: 0.5688 - val_loss: 1.3595 - val_accuracy: 0.5242\n",
      "Epoch 9/30\n",
      "443/443 [==============================] - 1s 3ms/step - loss: 1.1843 - accuracy: 0.5834 - val_loss: 1.3426 - val_accuracy: 0.5414\n",
      "Epoch 10/30\n",
      "443/443 [==============================] - 1s 3ms/step - loss: 1.1535 - accuracy: 0.5948 - val_loss: 1.3365 - val_accuracy: 0.5434\n",
      "Epoch 11/30\n",
      "443/443 [==============================] - 1s 3ms/step - loss: 1.1264 - accuracy: 0.6085 - val_loss: 1.3396 - val_accuracy: 0.5431\n",
      "Epoch 12/30\n",
      "443/443 [==============================] - 1s 3ms/step - loss: 1.0961 - accuracy: 0.6172 - val_loss: 1.3079 - val_accuracy: 0.5476\n",
      "Epoch 13/30\n",
      "443/443 [==============================] - 1s 3ms/step - loss: 1.0680 - accuracy: 0.6298 - val_loss: 1.3278 - val_accuracy: 0.5425\n",
      "Epoch 14/30\n",
      "443/443 [==============================] - 1s 3ms/step - loss: 1.0488 - accuracy: 0.6342 - val_loss: 1.3075 - val_accuracy: 0.5640\n",
      "Epoch 15/30\n",
      "443/443 [==============================] - 1s 3ms/step - loss: 1.0195 - accuracy: 0.6476 - val_loss: 1.3050 - val_accuracy: 0.5632\n",
      "Epoch 16/30\n",
      "443/443 [==============================] - 1s 3ms/step - loss: 0.9949 - accuracy: 0.6582 - val_loss: 1.2889 - val_accuracy: 0.5719\n",
      "Epoch 17/30\n",
      "443/443 [==============================] - 1s 3ms/step - loss: 0.9854 - accuracy: 0.6585 - val_loss: 1.2672 - val_accuracy: 0.5773\n",
      "Epoch 18/30\n",
      "443/443 [==============================] - 1s 3ms/step - loss: 0.9620 - accuracy: 0.6687 - val_loss: 1.2674 - val_accuracy: 0.5827\n",
      "Epoch 19/30\n",
      "443/443 [==============================] - 1s 3ms/step - loss: 0.9497 - accuracy: 0.6689 - val_loss: 1.2797 - val_accuracy: 0.5841\n",
      "Epoch 20/30\n",
      "443/443 [==============================] - 1s 3ms/step - loss: 0.9259 - accuracy: 0.6796 - val_loss: 1.3064 - val_accuracy: 0.5753\n",
      "Epoch 21/30\n",
      "443/443 [==============================] - 1s 3ms/step - loss: 0.9105 - accuracy: 0.6834 - val_loss: 1.2627 - val_accuracy: 0.5908\n",
      "Epoch 22/30\n",
      "443/443 [==============================] - 1s 3ms/step - loss: 0.8999 - accuracy: 0.6896 - val_loss: 1.2822 - val_accuracy: 0.5846\n",
      "Epoch 23/30\n",
      "443/443 [==============================] - 1s 3ms/step - loss: 0.8806 - accuracy: 0.6958 - val_loss: 1.2576 - val_accuracy: 0.5872\n",
      "Epoch 24/30\n",
      "443/443 [==============================] - 1s 3ms/step - loss: 0.8636 - accuracy: 0.7007 - val_loss: 1.3013 - val_accuracy: 0.5747\n",
      "Epoch 25/30\n",
      "443/443 [==============================] - 1s 3ms/step - loss: 0.8552 - accuracy: 0.7040 - val_loss: 1.2893 - val_accuracy: 0.5883\n",
      "Epoch 26/30\n",
      "443/443 [==============================] - 1s 3ms/step - loss: 0.8399 - accuracy: 0.7070 - val_loss: 1.2795 - val_accuracy: 0.5866\n",
      "Epoch 27/30\n",
      "443/443 [==============================] - 1s 3ms/step - loss: 0.8288 - accuracy: 0.7121 - val_loss: 1.3066 - val_accuracy: 0.5866\n",
      "Epoch 28/30\n",
      "443/443 [==============================] - 1s 3ms/step - loss: 0.8206 - accuracy: 0.7118 - val_loss: 1.2816 - val_accuracy: 0.5894\n",
      "Epoch 29/30\n",
      "443/443 [==============================] - 1s 3ms/step - loss: 0.8051 - accuracy: 0.7204 - val_loss: 1.2736 - val_accuracy: 0.6081\n",
      "Epoch 30/30\n",
      "443/443 [==============================] - 1s 3ms/step - loss: 0.7941 - accuracy: 0.7252 - val_loss: 1.2935 - val_accuracy: 0.5903\n"
     ]
    },
    {
     "data": {
      "text/plain": [
       "<keras.src.callbacks.History at 0x7d669c33ed40>"
      ]
     },
     "execution_count": 49,
     "metadata": {},
     "output_type": "execute_result"
    }
   ],
   "source": [
    "basic_model.fit(X_train,\n",
    "               y_train,\n",
    "               epochs = 30,\n",
    "                 validation_split = 0.2)"
   ]
  },
  {
   "cell_type": "code",
   "execution_count": 50,
   "metadata": {
    "colab": {
     "base_uri": "https://localhost:8080/"
    },
    "id": "7fkVD3Rfvn2H",
    "outputId": "a34da1ca-5b28-4ed7-be1d-78d2da32ec91"
   },
   "outputs": [
    {
     "name": "stdout",
     "output_type": "stream",
     "text": [
      "139/139 [==============================] - 0s 1ms/step\n",
      "139/139 [==============================] - 0s 2ms/step - loss: 1.2841 - accuracy: 0.5985\n",
      "Loss: 1.2840631008148193\n",
      "Accuracy: 0.5984625816345215\n"
     ]
    }
   ],
   "source": [
    "y_pred = basic_model.predict(X_test)\n",
    "loss, accuracy = basic_model.evaluate(X_test, y_test)\n",
    "print(\"Loss:\", loss)\n",
    "print(\"Accuracy:\", accuracy)"
   ]
  },
  {
   "cell_type": "markdown",
   "metadata": {
    "id": "t4pwvSiw55hj"
   },
   "source": [
    "# First model with Bidirectional LSTM"
   ]
  },
  {
   "cell_type": "code",
   "execution_count": 23,
   "metadata": {
    "colab": {
     "base_uri": "https://localhost:8080/"
    },
    "id": "v_xPohfG4zPF",
    "outputId": "10f45c0b-063a-4ede-a70c-a74c03dc6722"
   },
   "outputs": [
    {
     "name": "stderr",
     "output_type": "stream",
     "text": [
      "WARNING:tensorflow:Layer lstm_7 will not use cuDNN kernels since it doesn't meet the criteria. It will use a generic GPU kernel as fallback when running on GPU.\n",
      "WARNING:tensorflow:Layer lstm_7 will not use cuDNN kernels since it doesn't meet the criteria. It will use a generic GPU kernel as fallback when running on GPU.\n",
      "WARNING:tensorflow:Layer lstm_7 will not use cuDNN kernels since it doesn't meet the criteria. It will use a generic GPU kernel as fallback when running on GPU.\n"
     ]
    },
    {
     "name": "stdout",
     "output_type": "stream",
     "text": [
      "Model: \"sequential_6\"\n",
      "_________________________________________________________________\n",
      " Layer (type)                Output Shape              Param #   \n",
      "=================================================================\n",
      " bidirectional_7 (Bidirecti  (None, 20, 40)            21440     \n",
      " onal)                                                           \n",
      "                                                                 \n",
      " global_average_pooling1d_5  (None, 40)                0         \n",
      "  (GlobalAveragePooling1D)                                       \n",
      "                                                                 \n",
      " flatten_5 (Flatten)         (None, 40)                0         \n",
      "                                                                 \n",
      " dense_10 (Dense)            (None, 20)                820       \n",
      "                                                                 \n",
      " dropout_5 (Dropout)         (None, 20)                0         \n",
      "                                                                 \n",
      " dense_11 (Dense)            (None, 10)                210       \n",
      "                                                                 \n",
      "=================================================================\n",
      "Total params: 22470 (87.77 KB)\n",
      "Trainable params: 22470 (87.77 KB)\n",
      "Non-trainable params: 0 (0.00 Byte)\n",
      "_________________________________________________________________\n"
     ]
    }
   ],
   "source": [
    "def lstm_bidirectional(num_classes):\n",
    "\n",
    "    model = Sequential()\n",
    "\n",
    "    model.add(Bidirectional(LSTM(units=20, input_shape=(20, 113), return_sequences=True, kernel_regularizer=l2(1e-4), recurrent_dropout= 1e-4)))\n",
    "\n",
    "    model.add(GlobalAveragePooling1D())\n",
    "\n",
    "    model.add(Flatten())\n",
    "\n",
    "    model.add(Dense(20, activation = 'relu', kernel_regularizer = l2(1e-4)))\n",
    "\n",
    "    model.add(Dropout(0.4))\n",
    "\n",
    "    # Output layer\n",
    "    model.add(Dense(units=num_classes, activation='softmax'))\n",
    "\n",
    "    model.build(input_shape=(None, 20, 113))\n",
    "\n",
    "    return model\n",
    "\n",
    "lstm_model_2 = lstm_bidirectional(10)\n",
    "\n",
    "# Checkpoint\n",
    "checkpoint_filepath = 'drive/MyDrive/bidirectional_1.model.keras'\n",
    "model_checkpoint_callback = ModelCheckpoint(\n",
    "    filepath=checkpoint_filepath,\n",
    "    monitor='accuracy',\n",
    "    mode='max',\n",
    "    save_best_only=True)\n",
    "\n",
    "# EarlyStopping\n",
    "early_stopping = EarlyStopping(\n",
    "    monitor='val_loss',\n",
    "    patience=10,\n",
    "    verbose=1,\n",
    "    restore_best_weights=True)\n",
    "\n",
    "# Compile the model\n",
    "lstm_model_2.compile(optimizer='adam', loss='categorical_crossentropy', metrics=['accuracy'])\n",
    "\n",
    "lstm_model_2.summary()\n"
   ]
  },
  {
   "cell_type": "code",
   "execution_count": 24,
   "metadata": {
    "colab": {
     "base_uri": "https://localhost:8080/"
    },
    "id": "1wrdoFFH6HJd",
    "outputId": "a5d7569a-5083-42f7-ddae-f0b3ad5152ae"
   },
   "outputs": [
    {
     "name": "stdout",
     "output_type": "stream",
     "text": [
      "Epoch 1/30\n",
      "443/443 [==============================] - 38s 75ms/step - loss: 1.8956 - accuracy: 0.3145 - val_loss: 1.4089 - val_accuracy: 0.5131\n",
      "Epoch 2/30\n",
      "443/443 [==============================] - 33s 74ms/step - loss: 1.3897 - accuracy: 0.5035 - val_loss: 1.1166 - val_accuracy: 0.6228\n",
      "Epoch 3/30\n",
      "443/443 [==============================] - 33s 74ms/step - loss: 1.2083 - accuracy: 0.5792 - val_loss: 1.0113 - val_accuracy: 0.6748\n",
      "Epoch 4/30\n",
      "443/443 [==============================] - 32s 73ms/step - loss: 1.0975 - accuracy: 0.6203 - val_loss: 0.8938 - val_accuracy: 0.7036\n",
      "Epoch 5/30\n",
      "443/443 [==============================] - 33s 74ms/step - loss: 1.0166 - accuracy: 0.6531 - val_loss: 0.8455 - val_accuracy: 0.7245\n",
      "Epoch 6/30\n",
      "443/443 [==============================] - 33s 74ms/step - loss: 0.9391 - accuracy: 0.6834 - val_loss: 0.7660 - val_accuracy: 0.7477\n",
      "Epoch 7/30\n",
      "443/443 [==============================] - 33s 74ms/step - loss: 0.8750 - accuracy: 0.7085 - val_loss: 0.7267 - val_accuracy: 0.7655\n",
      "Epoch 8/30\n",
      "443/443 [==============================] - 33s 74ms/step - loss: 0.8198 - accuracy: 0.7293 - val_loss: 0.7113 - val_accuracy: 0.7669\n",
      "Epoch 9/30\n",
      "443/443 [==============================] - 33s 74ms/step - loss: 0.7798 - accuracy: 0.7421 - val_loss: 0.6363 - val_accuracy: 0.7926\n",
      "Epoch 10/30\n",
      "443/443 [==============================] - 32s 73ms/step - loss: 0.7374 - accuracy: 0.7579 - val_loss: 0.6472 - val_accuracy: 0.7940\n",
      "Epoch 11/30\n",
      "443/443 [==============================] - 32s 73ms/step - loss: 0.7044 - accuracy: 0.7742 - val_loss: 0.6089 - val_accuracy: 0.8016\n",
      "Epoch 12/30\n",
      "443/443 [==============================] - 33s 75ms/step - loss: 0.6774 - accuracy: 0.7824 - val_loss: 0.6018 - val_accuracy: 0.8056\n",
      "Epoch 13/30\n",
      "443/443 [==============================] - 33s 74ms/step - loss: 0.6542 - accuracy: 0.7875 - val_loss: 0.6277 - val_accuracy: 0.7949\n",
      "Epoch 14/30\n",
      "443/443 [==============================] - 33s 74ms/step - loss: 0.6458 - accuracy: 0.7947 - val_loss: 0.6082 - val_accuracy: 0.8107\n",
      "Epoch 15/30\n",
      "443/443 [==============================] - 33s 74ms/step - loss: 0.6206 - accuracy: 0.8016 - val_loss: 0.5707 - val_accuracy: 0.8172\n",
      "Epoch 16/30\n",
      "443/443 [==============================] - 33s 74ms/step - loss: 0.6021 - accuracy: 0.8063 - val_loss: 0.5832 - val_accuracy: 0.8152\n",
      "Epoch 17/30\n",
      "443/443 [==============================] - 33s 74ms/step - loss: 0.5943 - accuracy: 0.8132 - val_loss: 0.6296 - val_accuracy: 0.8121\n",
      "Epoch 18/30\n",
      "443/443 [==============================] - 33s 74ms/step - loss: 0.5741 - accuracy: 0.8178 - val_loss: 0.5751 - val_accuracy: 0.8211\n",
      "Epoch 19/30\n",
      "443/443 [==============================] - 33s 74ms/step - loss: 0.5627 - accuracy: 0.8236 - val_loss: 0.5833 - val_accuracy: 0.8254\n",
      "Epoch 20/30\n",
      "443/443 [==============================] - 33s 74ms/step - loss: 0.5385 - accuracy: 0.8347 - val_loss: 0.6191 - val_accuracy: 0.8110\n",
      "Epoch 21/30\n",
      "443/443 [==============================] - 33s 75ms/step - loss: 0.5297 - accuracy: 0.8351 - val_loss: 0.5786 - val_accuracy: 0.8299\n",
      "Epoch 22/30\n",
      "443/443 [==============================] - 33s 74ms/step - loss: 0.5188 - accuracy: 0.8425 - val_loss: 0.5579 - val_accuracy: 0.8299\n",
      "Epoch 23/30\n",
      "443/443 [==============================] - 32s 73ms/step - loss: 0.5247 - accuracy: 0.8419 - val_loss: 0.5795 - val_accuracy: 0.8251\n",
      "Epoch 24/30\n",
      "443/443 [==============================] - 33s 74ms/step - loss: 0.5022 - accuracy: 0.8487 - val_loss: 0.5353 - val_accuracy: 0.8361\n",
      "Epoch 25/30\n",
      "443/443 [==============================] - 33s 74ms/step - loss: 0.4905 - accuracy: 0.8556 - val_loss: 0.5620 - val_accuracy: 0.8353\n",
      "Epoch 26/30\n",
      "443/443 [==============================] - 32s 73ms/step - loss: 0.4828 - accuracy: 0.8564 - val_loss: 0.6215 - val_accuracy: 0.8209\n",
      "Epoch 27/30\n",
      "443/443 [==============================] - 33s 74ms/step - loss: 0.4682 - accuracy: 0.8601 - val_loss: 0.5594 - val_accuracy: 0.8319\n",
      "Epoch 28/30\n",
      "443/443 [==============================] - 33s 74ms/step - loss: 0.4654 - accuracy: 0.8597 - val_loss: 0.5813 - val_accuracy: 0.8282\n",
      "Epoch 29/30\n",
      "443/443 [==============================] - 33s 74ms/step - loss: 0.4523 - accuracy: 0.8632 - val_loss: 0.6348 - val_accuracy: 0.8234\n",
      "Epoch 30/30\n",
      "443/443 [==============================] - 33s 74ms/step - loss: 0.4523 - accuracy: 0.8645 - val_loss: 0.5647 - val_accuracy: 0.8401\n"
     ]
    },
    {
     "data": {
      "text/plain": [
       "<keras.src.callbacks.History at 0x781e3c78bdc0>"
      ]
     },
     "execution_count": 24,
     "metadata": {},
     "output_type": "execute_result"
    }
   ],
   "source": [
    "lstm_model_2.fit(X_train,\n",
    "               y_train,\n",
    "               epochs = 30,\n",
    "                 validation_split = 0.2,\n",
    "                callbacks = [early_stopping, model_checkpoint_callback])"
   ]
  },
  {
   "cell_type": "code",
   "execution_count": 3,
   "metadata": {
    "colab": {
     "base_uri": "https://localhost:8080/"
    },
    "id": "p6Al1sxykca6",
    "outputId": "f20e4b2e-ccd1-4767-8bc7-3f98a7b4ab46"
   },
   "outputs": [
    {
     "name": "stderr",
     "output_type": "stream",
     "text": [
      "WARNING:tensorflow:Layer lstm_7 will not use cuDNN kernels since it doesn't meet the criteria. It will use a generic GPU kernel as fallback when running on GPU.\n",
      "WARNING:tensorflow:Layer lstm_7 will not use cuDNN kernels since it doesn't meet the criteria. It will use a generic GPU kernel as fallback when running on GPU.\n",
      "WARNING:tensorflow:Layer lstm_7 will not use cuDNN kernels since it doesn't meet the criteria. It will use a generic GPU kernel as fallback when running on GPU.\n"
     ]
    }
   ],
   "source": [
    "lstm_model_2 = load_model('models/bidirectional_1.model.keras')\n",
    "# lstm_model_2.evaluate(X_test, y_test)"
   ]
  },
  {
   "cell_type": "code",
   "execution_count": 10,
   "metadata": {
    "colab": {
     "base_uri": "https://localhost:8080/"
    },
    "id": "QqaTFVCNlfmJ",
    "outputId": "00883f87-4915-4b82-94b2-bbc5b41baa26"
   },
   "outputs": [
    {
     "name": "stdout",
     "output_type": "stream",
     "text": [
      "139/139 [==============================] - 3s 13ms/step - loss: 0.5699 - accuracy: 0.8438\n"
     ]
    },
    {
     "data": {
      "text/plain": [
       "[0.569929301738739, 0.84377121925354]"
      ]
     },
     "execution_count": 10,
     "metadata": {},
     "output_type": "execute_result"
    }
   ],
   "source": [
    "lstm_model_2.evaluate(X_test, y_test)"
   ]
  },
  {
   "cell_type": "markdown",
   "metadata": {
    "id": "VEyk_Dg140am"
   },
   "source": [
    "### Regularized Double Bidirectional Model\n"
   ]
  },
  {
   "cell_type": "code",
   "execution_count": 8,
   "metadata": {
    "colab": {
     "base_uri": "https://localhost:8080/"
    },
    "id": "AHdjuvxxMCzv",
    "outputId": "81a4a9fb-4f81-40b9-ce44-66c440a5a8f7"
   },
   "outputs": [
    {
     "name": "stderr",
     "output_type": "stream",
     "text": [
      "WARNING:tensorflow:Layer lstm_3 will not use cuDNN kernels since it doesn't meet the criteria. It will use a generic GPU kernel as fallback when running on GPU.\n",
      "WARNING:tensorflow:Layer lstm_3 will not use cuDNN kernels since it doesn't meet the criteria. It will use a generic GPU kernel as fallback when running on GPU.\n",
      "WARNING:tensorflow:Layer lstm_3 will not use cuDNN kernels since it doesn't meet the criteria. It will use a generic GPU kernel as fallback when running on GPU.\n",
      "WARNING:tensorflow:Layer lstm_4 will not use cuDNN kernels since it doesn't meet the criteria. It will use a generic GPU kernel as fallback when running on GPU.\n",
      "WARNING:tensorflow:Layer lstm_4 will not use cuDNN kernels since it doesn't meet the criteria. It will use a generic GPU kernel as fallback when running on GPU.\n",
      "WARNING:tensorflow:Layer lstm_4 will not use cuDNN kernels since it doesn't meet the criteria. It will use a generic GPU kernel as fallback when running on GPU.\n"
     ]
    },
    {
     "name": "stdout",
     "output_type": "stream",
     "text": [
      "Model: \"sequential_2\"\n",
      "_________________________________________________________________\n",
      " Layer (type)                Output Shape              Param #   \n",
      "=================================================================\n",
      " bidirectional_3 (Bidirecti  (None, 20, 40)            21440     \n",
      " onal)                                                           \n",
      "                                                                 \n",
      " bidirectional_4 (Bidirecti  (None, 20, 40)            9760      \n",
      " onal)                                                           \n",
      "                                                                 \n",
      " global_average_pooling1d_2  (None, 40)                0         \n",
      "  (GlobalAveragePooling1D)                                       \n",
      "                                                                 \n",
      " flatten_2 (Flatten)         (None, 40)                0         \n",
      "                                                                 \n",
      " dense_4 (Dense)             (None, 10)                410       \n",
      "                                                                 \n",
      " dropout_2 (Dropout)         (None, 10)                0         \n",
      "                                                                 \n",
      " dense_5 (Dense)             (None, 10)                110       \n",
      "                                                                 \n",
      "=================================================================\n",
      "Total params: 31720 (123.91 KB)\n",
      "Trainable params: 31720 (123.91 KB)\n",
      "Non-trainable params: 0 (0.00 Byte)\n",
      "_________________________________________________________________\n"
     ]
    }
   ],
   "source": [
    "def lstm_bidirectional_2(num_classes):\n",
    "\n",
    "    model = Sequential()\n",
    "\n",
    "    model.add(Bidirectional(LSTM(units=20, input_shape=(20, 113), return_sequences=True,\n",
    "                                 kernel_regularizer = l2(1e-4),\n",
    "                                recurrent_dropout = 0.0001)))\n",
    "    model.add(Bidirectional(LSTM(units=20, input_shape=(20, 113), return_sequences=True,\n",
    "                                 kernel_regularizer = l2(1e-4),\n",
    "                                recurrent_dropout = 0.0001)))\n",
    "\n",
    "    model.add(GlobalAveragePooling1D())\n",
    "\n",
    "    model.add(Flatten())\n",
    "\n",
    "    model.add(Dense(10, activation = 'relu', kernel_regularizer = l2(1e-4)))\n",
    "\n",
    "    model.add(Dropout(0.4))\n",
    "\n",
    "    # Output layer\n",
    "    model.add(Dense(units=num_classes, activation='softmax'))\n",
    "\n",
    "    model.build(input_shape=(None, 20, 113))\n",
    "\n",
    "    return model\n",
    "\n",
    "lstm_model_3 = lstm_bidirectional_2(10)\n",
    "\n",
    "# Checkpoint\n",
    "checkpoint_filepath = 'drive/MyDrive/mfcc_checkpoint.model.keras'\n",
    "model_checkpoint_callback = ModelCheckpoint(\n",
    "    filepath=checkpoint_filepath,\n",
    "    monitor='val_accuracy',\n",
    "    mode='max',\n",
    "    save_best_only=True)\n",
    "\n",
    "# EarlyStopping\n",
    "early_stopping = EarlyStopping(\n",
    "    monitor='val_loss',\n",
    "    patience=10,\n",
    "    verbose=1,\n",
    "    restore_best_weights=True)\n",
    "\n",
    "# Compile the model\n",
    "lstm_model_3.compile(optimizer='adam', loss='categorical_crossentropy', metrics=['accuracy'])\n",
    "\n",
    "lstm_model_3.summary()\n"
   ]
  },
  {
   "cell_type": "code",
   "execution_count": 9,
   "metadata": {
    "colab": {
     "base_uri": "https://localhost:8080/"
    },
    "id": "zA7wNl-ZMCvB",
    "outputId": "7683a6eb-0510-4cb4-9f29-4fe0aa411263"
   },
   "outputs": [
    {
     "name": "stdout",
     "output_type": "stream",
     "text": [
      "Epoch 1/30\n",
      "443/443 [==============================] - 82s 166ms/step - loss: 1.9502 - accuracy: 0.2867 - val_loss: 1.4886 - val_accuracy: 0.4600\n",
      "Epoch 2/30\n",
      "443/443 [==============================] - 72s 162ms/step - loss: 1.5132 - accuracy: 0.4549 - val_loss: 1.2079 - val_accuracy: 0.5821\n",
      "Epoch 3/30\n",
      "443/443 [==============================] - 71s 161ms/step - loss: 1.3677 - accuracy: 0.5072 - val_loss: 1.1062 - val_accuracy: 0.6284\n",
      "Epoch 4/30\n",
      "443/443 [==============================] - 71s 159ms/step - loss: 1.2901 - accuracy: 0.5346 - val_loss: 1.0066 - val_accuracy: 0.6609\n",
      "Epoch 5/30\n",
      "443/443 [==============================] - 70s 158ms/step - loss: 1.2232 - accuracy: 0.5606 - val_loss: 1.0087 - val_accuracy: 0.6527\n",
      "Epoch 6/30\n",
      "443/443 [==============================] - 70s 158ms/step - loss: 1.1832 - accuracy: 0.5769 - val_loss: 0.9110 - val_accuracy: 0.6855\n",
      "Epoch 7/30\n",
      "443/443 [==============================] - 71s 159ms/step - loss: 1.1291 - accuracy: 0.5912 - val_loss: 0.8634 - val_accuracy: 0.7078\n",
      "Epoch 8/30\n",
      "443/443 [==============================] - 70s 158ms/step - loss: 1.1073 - accuracy: 0.6003 - val_loss: 0.8366 - val_accuracy: 0.7203\n",
      "Epoch 9/30\n",
      "443/443 [==============================] - 70s 159ms/step - loss: 1.0794 - accuracy: 0.6160 - val_loss: 0.8726 - val_accuracy: 0.7075\n",
      "Epoch 10/30\n",
      "443/443 [==============================] - 70s 159ms/step - loss: 1.0251 - accuracy: 0.6366 - val_loss: 0.7728 - val_accuracy: 0.7513\n",
      "Epoch 11/30\n",
      "443/443 [==============================] - 69s 157ms/step - loss: 0.9836 - accuracy: 0.6555 - val_loss: 0.7439 - val_accuracy: 0.7593\n",
      "Epoch 12/30\n",
      "443/443 [==============================] - 71s 160ms/step - loss: 0.9518 - accuracy: 0.6747 - val_loss: 0.7513 - val_accuracy: 0.7751\n",
      "Epoch 13/30\n",
      "443/443 [==============================] - 71s 160ms/step - loss: 0.9327 - accuracy: 0.6835 - val_loss: 0.7188 - val_accuracy: 0.7869\n",
      "Epoch 14/30\n",
      "443/443 [==============================] - 71s 159ms/step - loss: 0.8921 - accuracy: 0.6964 - val_loss: 0.7440 - val_accuracy: 0.7988\n",
      "Epoch 15/30\n",
      "443/443 [==============================] - 71s 160ms/step - loss: 0.8856 - accuracy: 0.7015 - val_loss: 0.7449 - val_accuracy: 0.7889\n",
      "Epoch 16/30\n",
      "443/443 [==============================] - 71s 160ms/step - loss: 0.8598 - accuracy: 0.7094 - val_loss: 0.7104 - val_accuracy: 0.8031\n",
      "Epoch 17/30\n",
      "443/443 [==============================] - 70s 159ms/step - loss: 0.8279 - accuracy: 0.7211 - val_loss: 0.6798 - val_accuracy: 0.8132\n",
      "Epoch 18/30\n",
      "443/443 [==============================] - 71s 159ms/step - loss: 0.8128 - accuracy: 0.7276 - val_loss: 0.7402 - val_accuracy: 0.8002\n",
      "Epoch 19/30\n",
      "443/443 [==============================] - 69s 156ms/step - loss: 0.7920 - accuracy: 0.7351 - val_loss: 0.6532 - val_accuracy: 0.8234\n",
      "Epoch 20/30\n",
      "443/443 [==============================] - 69s 156ms/step - loss: 0.7883 - accuracy: 0.7396 - val_loss: 0.6249 - val_accuracy: 0.8327\n",
      "Epoch 21/30\n",
      "443/443 [==============================] - 70s 159ms/step - loss: 0.7773 - accuracy: 0.7441 - val_loss: 0.6112 - val_accuracy: 0.8429\n",
      "Epoch 22/30\n",
      "443/443 [==============================] - 69s 157ms/step - loss: 0.7533 - accuracy: 0.7571 - val_loss: 0.6653 - val_accuracy: 0.8290\n",
      "Epoch 23/30\n",
      "443/443 [==============================] - 70s 158ms/step - loss: 0.7628 - accuracy: 0.7555 - val_loss: 0.6101 - val_accuracy: 0.8409\n",
      "Epoch 24/30\n",
      "443/443 [==============================] - 69s 156ms/step - loss: 0.7347 - accuracy: 0.7646 - val_loss: 0.6604 - val_accuracy: 0.8268\n",
      "Epoch 25/30\n",
      "443/443 [==============================] - 69s 156ms/step - loss: 0.7250 - accuracy: 0.7688 - val_loss: 0.6606 - val_accuracy: 0.8347\n",
      "Epoch 26/30\n",
      "443/443 [==============================] - 69s 156ms/step - loss: 0.7148 - accuracy: 0.7691 - val_loss: 0.6322 - val_accuracy: 0.8350\n",
      "Epoch 27/30\n",
      "443/443 [==============================] - 69s 156ms/step - loss: 0.7182 - accuracy: 0.7735 - val_loss: 0.6530 - val_accuracy: 0.8406\n",
      "Epoch 28/30\n",
      "443/443 [==============================] - 69s 156ms/step - loss: 0.6919 - accuracy: 0.7797 - val_loss: 0.7162 - val_accuracy: 0.8333\n",
      "Epoch 29/30\n",
      "443/443 [==============================] - 69s 157ms/step - loss: 0.6850 - accuracy: 0.7819 - val_loss: 0.6702 - val_accuracy: 0.8324\n",
      "Epoch 30/30\n",
      "443/443 [==============================] - 69s 156ms/step - loss: 0.6905 - accuracy: 0.7838 - val_loss: 0.6801 - val_accuracy: 0.8333\n"
     ]
    },
    {
     "data": {
      "text/plain": [
       "<keras.src.callbacks.History at 0x781e85e85420>"
      ]
     },
     "execution_count": 9,
     "metadata": {},
     "output_type": "execute_result"
    }
   ],
   "source": [
    "lstm_model_3.fit(X_train,\n",
    "               y_train,\n",
    "               epochs = 30,\n",
    "                 validation_split = 0.2,\n",
    "                callbacks = [early_stopping, model_checkpoint_callback])"
   ]
  },
  {
   "cell_type": "code",
   "execution_count": 15,
   "metadata": {
    "id": "tvilJ74VMCr4"
   },
   "outputs": [],
   "source": [
    "loaded_model.save('models/mfcc_model.keras')"
   ]
  },
  {
   "cell_type": "code",
   "execution_count": 16,
   "metadata": {
    "colab": {
     "base_uri": "https://localhost:8080/"
    },
    "id": "EoZQWM-YMCoi",
    "outputId": "6cef3280-7f44-4346-ab41-2c0002c84581"
   },
   "outputs": [
    {
     "name": "stderr",
     "output_type": "stream",
     "text": [
      "WARNING:tensorflow:Layer lstm_3 will not use cuDNN kernels since it doesn't meet the criteria. It will use a generic GPU kernel as fallback when running on GPU.\n",
      "WARNING:tensorflow:Layer lstm_3 will not use cuDNN kernels since it doesn't meet the criteria. It will use a generic GPU kernel as fallback when running on GPU.\n",
      "WARNING:tensorflow:Layer lstm_3 will not use cuDNN kernels since it doesn't meet the criteria. It will use a generic GPU kernel as fallback when running on GPU.\n",
      "WARNING:tensorflow:Layer lstm_4 will not use cuDNN kernels since it doesn't meet the criteria. It will use a generic GPU kernel as fallback when running on GPU.\n",
      "WARNING:tensorflow:Layer lstm_4 will not use cuDNN kernels since it doesn't meet the criteria. It will use a generic GPU kernel as fallback when running on GPU.\n",
      "WARNING:tensorflow:Layer lstm_4 will not use cuDNN kernels since it doesn't meet the criteria. It will use a generic GPU kernel as fallback when running on GPU.\n"
     ]
    }
   ],
   "source": [
    "loaded_model = load_model('drive/MyDrive/mfcc_model.keras')\n",
    "\n",
    "\n",
    "for layer in loaded_model.layers:\n",
    "    if hasattr(layer, 'kernel_regularizer'):\n",
    "\n",
    "        if isinstance(layer.kernel_regularizer, l2):\n",
    "            layer.kernel_regularizer.l2 = 1e-5\n",
    "        if isinstance(layer, Dropout):\n",
    "            layer.rate = 0.3\n",
    "\n",
    "\n",
    "loaded_model.compile(optimizer='adam', loss='categorical_crossentropy', metrics=['accuracy'])\n"
   ]
  },
  {
   "cell_type": "code",
   "execution_count": 17,
   "metadata": {
    "colab": {
     "base_uri": "https://localhost:8080/"
    },
    "id": "fe49S4m4MCeG",
    "outputId": "f7dbbe48-c40a-4a3d-eda8-b0de573fb853"
   },
   "outputs": [
    {
     "name": "stdout",
     "output_type": "stream",
     "text": [
      "Epoch 31/60\n",
      "443/443 [==============================] - 81s 164ms/step - loss: 0.6312 - accuracy: 0.7993 - val_loss: 0.6913 - val_accuracy: 0.8435\n",
      "Epoch 32/60\n",
      "443/443 [==============================] - 71s 160ms/step - loss: 0.6293 - accuracy: 0.7993 - val_loss: 0.6524 - val_accuracy: 0.8468\n",
      "Epoch 33/60\n",
      "443/443 [==============================] - 71s 161ms/step - loss: 0.6385 - accuracy: 0.8017 - val_loss: 0.6749 - val_accuracy: 0.8505\n",
      "Epoch 34/60\n",
      "443/443 [==============================] - 71s 161ms/step - loss: 0.6047 - accuracy: 0.8076 - val_loss: 0.6772 - val_accuracy: 0.8488\n",
      "Epoch 35/60\n",
      "443/443 [==============================] - 71s 160ms/step - loss: 0.6116 - accuracy: 0.8041 - val_loss: 0.6386 - val_accuracy: 0.8584\n",
      "Epoch 36/60\n",
      "443/443 [==============================] - 71s 160ms/step - loss: 0.5984 - accuracy: 0.8114 - val_loss: 0.6851 - val_accuracy: 0.8570\n",
      "Epoch 37/60\n",
      "443/443 [==============================] - 70s 157ms/step - loss: 0.6339 - accuracy: 0.8034 - val_loss: 0.6675 - val_accuracy: 0.8562\n",
      "Epoch 38/60\n",
      "443/443 [==============================] - 70s 159ms/step - loss: 0.5886 - accuracy: 0.8172 - val_loss: 0.7156 - val_accuracy: 0.8533\n",
      "Epoch 39/60\n",
      "443/443 [==============================] - 70s 159ms/step - loss: 0.5850 - accuracy: 0.8150 - val_loss: 0.7318 - val_accuracy: 0.8358\n",
      "Epoch 40/60\n",
      "443/443 [==============================] - 70s 158ms/step - loss: 0.5961 - accuracy: 0.8147 - val_loss: 0.7312 - val_accuracy: 0.8491\n",
      "Epoch 41/60\n",
      "443/443 [==============================] - 70s 157ms/step - loss: 0.5656 - accuracy: 0.8236 - val_loss: 0.6980 - val_accuracy: 0.8519\n",
      "Epoch 42/60\n",
      "443/443 [==============================] - 70s 159ms/step - loss: 0.5531 - accuracy: 0.8260 - val_loss: 0.6918 - val_accuracy: 0.8604\n",
      "Epoch 43/60\n",
      "443/443 [==============================] - 73s 164ms/step - loss: 0.5707 - accuracy: 0.8251 - val_loss: 0.7844 - val_accuracy: 0.8404\n",
      "Epoch 44/60\n",
      "443/443 [==============================] - 72s 162ms/step - loss: 0.5682 - accuracy: 0.8211 - val_loss: 0.7304 - val_accuracy: 0.8556\n",
      "Epoch 45/60\n",
      "443/443 [==============================] - ETA: 0s - loss: 0.5812 - accuracy: 0.8201Restoring model weights from the end of the best epoch: 35.\n",
      "443/443 [==============================] - 72s 162ms/step - loss: 0.5812 - accuracy: 0.8201 - val_loss: 0.8077 - val_accuracy: 0.8412\n",
      "Epoch 45: early stopping\n"
     ]
    },
    {
     "data": {
      "text/plain": [
       "<keras.src.callbacks.History at 0x781e7ff56f80>"
      ]
     },
     "execution_count": 17,
     "metadata": {},
     "output_type": "execute_result"
    }
   ],
   "source": [
    "loaded_model.fit(X_train, y_train,\n",
    "                 epochs=60, initial_epoch=30,\n",
    "                 validation_split= 0.2,\n",
    "                 callbacks = [early_stopping, model_checkpoint_callback])"
   ]
  },
  {
   "cell_type": "code",
   "execution_count": 32,
   "metadata": {
    "colab": {
     "base_uri": "https://localhost:8080/"
    },
    "id": "U5aMjWHNMCN9",
    "outputId": "d881b5a1-3dd6-49e3-c21d-3dceee100f13"
   },
   "outputs": [
    {
     "name": "stderr",
     "output_type": "stream",
     "text": [
      "WARNING:tensorflow:Layer lstm_3 will not use cuDNN kernels since it doesn't meet the criteria. It will use a generic GPU kernel as fallback when running on GPU.\n",
      "WARNING:tensorflow:Layer lstm_3 will not use cuDNN kernels since it doesn't meet the criteria. It will use a generic GPU kernel as fallback when running on GPU.\n",
      "WARNING:tensorflow:Layer lstm_3 will not use cuDNN kernels since it doesn't meet the criteria. It will use a generic GPU kernel as fallback when running on GPU.\n",
      "WARNING:tensorflow:Layer lstm_4 will not use cuDNN kernels since it doesn't meet the criteria. It will use a generic GPU kernel as fallback when running on GPU.\n",
      "WARNING:tensorflow:Layer lstm_4 will not use cuDNN kernels since it doesn't meet the criteria. It will use a generic GPU kernel as fallback when running on GPU.\n",
      "WARNING:tensorflow:Layer lstm_4 will not use cuDNN kernels since it doesn't meet the criteria. It will use a generic GPU kernel as fallback when running on GPU.\n"
     ]
    },
    {
     "name": "stdout",
     "output_type": "stream",
     "text": [
      "139/139 [==============================] - 4s 23ms/step\n",
      "139/139 [==============================] - 5s 23ms/step - loss: 0.6632 - accuracy: 0.8501\n",
      "Loss:  0.6631931066513062\n",
      "Accuracy:  0.8501017689704895\n"
     ]
    }
   ],
   "source": [
    "lstm_model_3 = load_model('models/mfcc_model.keras')\n",
    "y_pred = lstm_model_3.predict(X_test)\n",
    "loss, accuracy = lstm_model_3.evaluate(X_test, y_test)\n",
    "print(\"Loss: \", loss)\n",
    "print(\"Accuracy: \", accuracy)"
   ]
  },
  {
   "cell_type": "code",
   "execution_count": 33,
   "metadata": {
    "id": "uxDIjsqisf3y"
   },
   "outputs": [],
   "source": [
    "y_pred = np.argmax(y_pred, axis=1)\n",
    "y_test = np.argmax(y_test, axis=1)"
   ]
  },
  {
   "cell_type": "code",
   "execution_count": 34,
   "metadata": {
    "colab": {
     "base_uri": "https://localhost:8080/",
     "height": 449
    },
    "id": "umhvk7Qko4XF",
    "outputId": "a1a29457-841e-4f85-fc30-a66ba16a49ae"
   },
   "outputs": [
    {
     "data": {
      "image/png": "[encoded data removed]",
      "text/plain": [
       "<Figure size 640x480 with 2 Axes>"
      ]
     },
     "metadata": {},
     "output_type": "display_data"
    }
   ],
   "source": [
    "import matplotlib.pyplot as plt\n",
    "import tensorflow as tf\n",
    "from sklearn.metrics import ConfusionMatrixDisplay\n",
    "\n",
    "ConfusionMatrixDisplay.from_predictions(y_test, y_pred)\n",
    "plt.show()"
   ]
  }
 ],
 "metadata": {
  "accelerator": "GPU",
  "colab": {
   "gpuType": "V100",
   "machine_shape": "hm",
   "provenance": []
  },
  "kernelspec": {
   "display_name": "Python 3 (ipykernel)",
   "language": "python",
   "name": "python3"
  },
  "language_info": {
   "codemirror_mode": {
    "name": "ipython",
    "version": 3
   },
   "file_extension": ".py",
   "mimetype": "text/x-python",
   "name": "python",
   "nbconvert_exporter": "python",
   "pygments_lexer": "ipython3",
   "version": "3.9.18"
  }
 },
 "nbformat": 4,
 "nbformat_minor": 1
}
