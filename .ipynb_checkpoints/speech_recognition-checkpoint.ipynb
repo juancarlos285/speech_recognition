{
 "cells": [
  {
   "cell_type": "code",
   "execution_count": 1,
   "id": "27bd2300",
   "metadata": {},
   "outputs": [],
   "source": [
    "import pandas as pd\n",
    "import numpy as np\n",
    "import librosa\n",
    "import os\n",
    "import pickle\n",
    "import random\n",
    "import tensorflow as tf\n",
    "\n",
    "from sklearn.preprocessing import LabelEncoder\n",
    "from sklearn.model_selection import train_test_split\n",
    "\n",
    "from tensorflow.keras.models import Model\n",
    "from tensorflow.keras.layers import LSTM, Dense, Input, Dropout, Flatten, Reshape\n",
    "from tensorflow.keras.applications import VGG16\n",
    "from tensorflow.keras.optimizers import Adam\n"
   ]
  },
  {
   "cell_type": "code",
   "execution_count": 2,
   "id": "3611badd",
   "metadata": {},
   "outputs": [],
   "source": [
    "clips = 'common_voice/en/clips'\n",
    "clip_durations = 'common_voice/en/clip_durations.tsv'\n",
    "invalidated = 'common_voice/en/invalidated.tsv'\n",
    "other = 'common_voice/en/other.tsv'\n",
    "reported = 'common_voice/en/reported.tsv'\n",
    "validated = 'common_voice/en/validated.tsv'"
   ]
  },
  {
   "cell_type": "code",
   "execution_count": 3,
   "id": "63a3417f",
   "metadata": {},
   "outputs": [],
   "source": [
    "durations_df = pd.read_csv(clip_durations, sep = '\\t')\n",
    "inv_df = pd.read_csv(invalidated, sep = '\\t')\n",
    "other_df = pd.read_csv(other, sep = '\\t')\n",
    "# rep_df = pd.read_csv(reported, sep = '\\t')\n",
    "val_df = pd.read_csv(validated, sep = '\\t')"
   ]
  },
  {
   "cell_type": "code",
   "execution_count": 4,
   "id": "9cc490a4",
   "metadata": {},
   "outputs": [],
   "source": [
    "clips_number = len(os.listdir(clips))\n",
    "clips_number\n",
    "unique_speakers = other_df['client_id'].unique() #1654 different speakers"
   ]
  },
  {
   "cell_type": "code",
   "execution_count": 5,
   "id": "79bd4d30",
   "metadata": {},
   "outputs": [
    {
     "name": "stdout",
     "output_type": "stream",
     "text": [
      "<class 'pandas.core.frame.DataFrame'>\n",
      "RangeIndex: 48861 entries, 0 to 48860\n",
      "Data columns (total 11 columns):\n",
      " #   Column      Non-Null Count  Dtype  \n",
      "---  ------      --------------  -----  \n",
      " 0   client_id   48861 non-null  object \n",
      " 1   path        48861 non-null  object \n",
      " 2   sentence    48861 non-null  object \n",
      " 3   up_votes    48861 non-null  int64  \n",
      " 4   down_votes  48861 non-null  int64  \n",
      " 5   age         37772 non-null  object \n",
      " 6   gender      37695 non-null  object \n",
      " 7   accents     34230 non-null  object \n",
      " 8   variant     0 non-null      float64\n",
      " 9   locale      48861 non-null  object \n",
      " 10  segment     0 non-null      float64\n",
      "dtypes: float64(2), int64(2), object(7)\n",
      "memory usage: 4.1+ MB\n"
     ]
    }
   ],
   "source": [
    "other_df.info()"
   ]
  },
  {
   "cell_type": "code",
   "execution_count": 6,
   "id": "a598d07e",
   "metadata": {},
   "outputs": [
    {
     "data": {
      "text/html": [
       "<div>\n",
       "<style scoped>\n",
       "    .dataframe tbody tr th:only-of-type {\n",
       "        vertical-align: middle;\n",
       "    }\n",
       "\n",
       "    .dataframe tbody tr th {\n",
       "        vertical-align: top;\n",
       "    }\n",
       "\n",
       "    .dataframe thead th {\n",
       "        text-align: right;\n",
       "    }\n",
       "</style>\n",
       "<table border=\"1\" class=\"dataframe\">\n",
       "  <thead>\n",
       "    <tr style=\"text-align: right;\">\n",
       "      <th></th>\n",
       "      <th>clip</th>\n",
       "      <th>duration[ms]</th>\n",
       "    </tr>\n",
       "  </thead>\n",
       "  <tbody>\n",
       "    <tr>\n",
       "      <th>0</th>\n",
       "      <td>common_voice_en_38739592.mp3</td>\n",
       "      <td>7056</td>\n",
       "    </tr>\n",
       "    <tr>\n",
       "      <th>1</th>\n",
       "      <td>common_voice_en_38964148.mp3</td>\n",
       "      <td>3492</td>\n",
       "    </tr>\n",
       "    <tr>\n",
       "      <th>2</th>\n",
       "      <td>common_voice_en_38694636.mp3</td>\n",
       "      <td>3636</td>\n",
       "    </tr>\n",
       "    <tr>\n",
       "      <th>3</th>\n",
       "      <td>common_voice_en_38627562.mp3</td>\n",
       "      <td>5256</td>\n",
       "    </tr>\n",
       "    <tr>\n",
       "      <th>4</th>\n",
       "      <td>common_voice_en_39017255.mp3</td>\n",
       "      <td>4608</td>\n",
       "    </tr>\n",
       "  </tbody>\n",
       "</table>\n",
       "</div>"
      ],
      "text/plain": [
       "                           clip  duration[ms]\n",
       "0  common_voice_en_38739592.mp3          7056\n",
       "1  common_voice_en_38964148.mp3          3492\n",
       "2  common_voice_en_38694636.mp3          3636\n",
       "3  common_voice_en_38627562.mp3          5256\n",
       "4  common_voice_en_39017255.mp3          4608"
      ]
     },
     "execution_count": 6,
     "metadata": {},
     "output_type": "execute_result"
    }
   ],
   "source": [
    "durations_df.head()"
   ]
  },
  {
   "cell_type": "code",
   "execution_count": 7,
   "id": "a51f6615",
   "metadata": {},
   "outputs": [],
   "source": [
    "le = LabelEncoder()\n",
    "other_df['target'] = le.fit_transform(other_df['client_id'])"
   ]
  },
  {
   "cell_type": "code",
   "execution_count": 8,
   "id": "d910df24",
   "metadata": {},
   "outputs": [],
   "source": [
    "other_df = other_df.merge(durations_df, how = 'inner', left_on = 'path', right_on = 'clip')\n",
    "other_df = other_df.drop('clip', axis = 1)"
   ]
  },
  {
   "cell_type": "code",
   "execution_count": 9,
   "id": "8e38f5f3",
   "metadata": {},
   "outputs": [
    {
     "name": "stdout",
     "output_type": "stream",
     "text": [
      "<class 'pandas.core.frame.DataFrame'>\n",
      "Index: 22114 entries, 122 to 42781\n",
      "Data columns (total 13 columns):\n",
      " #   Column        Non-Null Count  Dtype  \n",
      "---  ------        --------------  -----  \n",
      " 0   client_id     22114 non-null  object \n",
      " 1   path          22114 non-null  object \n",
      " 2   sentence      22114 non-null  object \n",
      " 3   up_votes      22114 non-null  int64  \n",
      " 4   down_votes    22114 non-null  int64  \n",
      " 5   age           22114 non-null  object \n",
      " 6   gender        22114 non-null  object \n",
      " 7   accents       22114 non-null  object \n",
      " 8   variant       0 non-null      float64\n",
      " 9   locale        22114 non-null  object \n",
      " 10  segment       0 non-null      float64\n",
      " 11  target        22114 non-null  int64  \n",
      " 12  duration[ms]  22114 non-null  int64  \n",
      "dtypes: float64(2), int64(4), object(7)\n",
      "memory usage: 2.4+ MB\n"
     ]
    }
   ],
   "source": [
    "#number of samples per target\n",
    "value_counts = other_df['target'].value_counts()\n",
    "\n",
    "# targets > 1000 datapoints\n",
    "targets = np.array(value_counts[value_counts > 1000].index)\n",
    "\n",
    "model_df = other_df.loc[other_df['target'].isin(targets)]\n",
    "\n",
    "model_df.info()"
   ]
  },
  {
   "cell_type": "markdown",
   "id": "9a2327b0",
   "metadata": {},
   "source": [
    "### Features to extract \n",
    "- MFCCs\n",
    "- Chromagram\n",
    "- Mel-spectrogram\n",
    "- Spectral contrast\n",
    "- Tonal centroid (Tonnetz)"
   ]
  },
  {
   "cell_type": "code",
   "execution_count": 10,
   "id": "fc8e2f05",
   "metadata": {},
   "outputs": [
    {
     "data": {
      "text/plain": [
       "6454.018268969883"
      ]
     },
     "execution_count": 10,
     "metadata": {},
     "output_type": "execute_result"
    },
    {
     "data": {
      "image/png": "[encoded data removed]",
      "text/plain": [
       "<Figure size 640x480 with 1 Axes>"
      ]
     },
     "metadata": {},
     "output_type": "display_data"
    }
   ],
   "source": [
    "seconds = model_df['duration[ms]']\n",
    "seconds.plot(kind = 'box');\n",
    "seconds.mean()\n",
    "# seconds[seconds > 7020]"
   ]
  },
  {
   "cell_type": "code",
   "execution_count": 23,
   "id": "45afb3c6",
   "metadata": {},
   "outputs": [],
   "source": [
    "def matrix_standard_scaler(matrix):\n",
    "    mean = matrix.mean()\n",
    "    std = matrix.std()\n",
    "    if std == 0:\n",
    "        std = 1e-8\n",
    "    norm_matrix = (matrix - mean) / std\n",
    "    return norm_matrix"
   ]
  },
  {
   "cell_type": "code",
   "execution_count": 24,
   "id": "e08428e5",
   "metadata": {},
   "outputs": [
    {
     "name": "stdout",
     "output_type": "stream",
     "text": [
      "Mel spectrogram shape: (128, 438)\n"
     ]
    }
   ],
   "source": [
    "def load_and_preprocess_audio(audio_path, target_duration=7):\n",
    "    # Load audio file\n",
    "    audio, sr = librosa.load(audio_path, sr=None)\n",
    "\n",
    "    # Clip or zero-pad audio to match target duration\n",
    "    if len(audio) > sr * target_duration:\n",
    "        # Clip audio to target duration\n",
    "        audio = audio[:sr * target_duration]\n",
    "    elif len(audio) < sr * target_duration:\n",
    "        # Zero-pad audio to target duration\n",
    "        pad_width = sr * target_duration - len(audio)\n",
    "        audio = np.pad(audio, (0, pad_width), mode='constant')\n",
    "        \n",
    "        # Define the replacement value (in dB)\n",
    "        replacement_value = -80\n",
    "\n",
    "        # Find indices of non-zero values\n",
    "        non_zero_indices = audio != 0\n",
    "\n",
    "        # Replace zeros with the chosen value\n",
    "        audio[~non_zero_indices] = replacement_value\n",
    "\n",
    "    # Extract Mel spectrogram\n",
    "    mel_spectrogram = librosa.feature.melspectrogram(y=audio, sr=sr)\n",
    "    norm_ms = matrix_standard_scaler(mel_spectrogram)\n",
    "\n",
    "    return norm_ms\n",
    "\n",
    "# # Example usage\n",
    "audio_path = clips + \"/\" + os.listdir(clips)[4]\n",
    "mel_spectrogram = load_and_preprocess_audio(audio_path)\n",
    "\n",
    "# Check shape of the Mel spectrogram\n",
    "print(\"Mel spectrogram shape:\", mel_spectrogram.shape)\n"
   ]
  },
  {
   "cell_type": "code",
   "execution_count": 25,
   "id": "b58ee7d2",
   "metadata": {},
   "outputs": [
    {
     "data": {
      "text/plain": [
       "(128, 438, 1)"
      ]
     },
     "execution_count": 25,
     "metadata": {},
     "output_type": "execute_result"
    }
   ],
   "source": [
    "new_mel = mel_spectrogram.reshape(128, 438, 1)\n",
    "new_mel.shape\n",
    "# np.std(new_mel, axis = 0)"
   ]
  },
  {
   "cell_type": "code",
   "execution_count": 26,
   "id": "01b23bad",
   "metadata": {},
   "outputs": [],
   "source": [
    "X = model_df['path']\n",
    "y = model_df['target']\n",
    "X_train, X_test, y_train, y_test = train_test_split(X, y, test_size = 0.2, stratify = y, random_state = 42)\n",
    "\n",
    "def pickle_sgrams(X, y, new_file_name):\n",
    "    full_paths = clips + '/' + X\n",
    "    mel_sgrams = full_paths.apply(lambda x: load_and_preprocess_audio(x))\n",
    "    with open(new_file_name, 'wb') as f:\n",
    "        pickle.dump((mel_sgrams, y), f)\n",
    "    return\n",
    "    "
   ]
  },
  {
   "cell_type": "code",
   "execution_count": 27,
   "id": "1f599aef",
   "metadata": {},
   "outputs": [],
   "source": [
    "pickle_sgrams(X_train, y_train, 'train_set.pkl')\n",
    "pickle_sgrams(X_test, y_test, 'test_set.pkl')"
   ]
  },
  {
   "cell_type": "code",
   "execution_count": 28,
   "id": "f5cb6cb1",
   "metadata": {},
   "outputs": [],
   "source": [
    "def grayscale_to_rgb(image):\n",
    "\n",
    "    # Duplicate the grayscale channel 3 times.\n",
    "    rgb_image = np.stack([image, image, image], axis=-1)\n",
    "\n",
    "    return rgb_image"
   ]
  },
  {
   "cell_type": "code",
   "execution_count": 29,
   "id": "84cfceb5",
   "metadata": {},
   "outputs": [],
   "source": [
    "def data_generator(data, batch_size):\n",
    "    \n",
    "    X, y = data\n",
    "    \n",
    "    # Loop through the data in batches\n",
    "    for i in range(0, len(y), batch_size):\n",
    "        \n",
    "        # Get a batch\n",
    "        features = X[i: i + batch_size]\n",
    "        #add third dim to spectrogram\n",
    "        features = np.expand_dims(features.values[0], axis = -1)\n",
    "        #convert to rgb\n",
    "        features = features.apply(lambda x: grayscale_to_rgb(x))\n",
    "        targets = y[i: i + batch_size]\n",
    "\n",
    "        # Yield the current batch\n",
    "        yield features, targets"
   ]
  },
  {
   "cell_type": "code",
   "execution_count": null,
   "id": "a577db5d",
   "metadata": {},
   "outputs": [],
   "source": []
  },
  {
   "cell_type": "code",
   "execution_count": null,
   "id": "872278d4",
   "metadata": {},
   "outputs": [],
   "source": []
  },
  {
   "cell_type": "code",
   "execution_count": 30,
   "id": "d8160d96",
   "metadata": {},
   "outputs": [
    {
     "name": "stderr",
     "output_type": "stream",
     "text": [
      "2024-03-03 20:15:28.991002: I metal_plugin/src/device/metal_device.cc:1154] Metal device set to: Apple M1\n",
      "2024-03-03 20:15:28.991649: I metal_plugin/src/device/metal_device.cc:296] systemMemory: 8.00 GB\n",
      "2024-03-03 20:15:28.991653: I metal_plugin/src/device/metal_device.cc:313] maxCacheSize: 2.67 GB\n",
      "2024-03-03 20:15:28.992553: I tensorflow/core/common_runtime/pluggable_device/pluggable_device_factory.cc:303] Could not identify NUMA node of platform GPU ID 0, defaulting to 0. Your kernel may not have been built with NUMA support.\n",
      "2024-03-03 20:15:28.992812: I tensorflow/core/common_runtime/pluggable_device/pluggable_device_factory.cc:269] Created TensorFlow device (/job:localhost/replica:0/task:0/device:GPU:0 with 0 MB memory) -> physical PluggableDevice (device: 0, name: METAL, pci bus id: <undefined>)\n"
     ]
    },
    {
     "name": "stdout",
     "output_type": "stream",
     "text": [
      "KerasTensor(type_spec=TensorSpec(shape=(None, 4, 13, 512), dtype=tf.float32, name=None), name='block5_pool/MaxPool:0', description=\"created by layer 'block5_pool'\")\n"
     ]
    },
    {
     "name": "stderr",
     "output_type": "stream",
     "text": [
      "WARNING:absl:At this time, the v2.11+ optimizer `tf.keras.optimizers.Adam` runs slowly on M1/M2 Macs, please use the legacy Keras optimizer instead, located at `tf.keras.optimizers.legacy.Adam`.\n",
      "WARNING:absl:`lr` is deprecated in Keras optimizer, please use `learning_rate` or use the legacy optimizer, e.g.,tf.keras.optimizers.legacy.Adam.\n",
      "WARNING:absl:There is a known slowdown when using v2.11+ Keras optimizers on M1/M2 Macs. Falling back to the legacy Keras optimizer, i.e., `tf.keras.optimizers.legacy.Adam`.\n"
     ]
    },
    {
     "name": "stdout",
     "output_type": "stream",
     "text": [
      "Model: \"model\"\n",
      "_________________________________________________________________\n",
      " Layer (type)                Output Shape              Param #   \n",
      "=================================================================\n",
      " input_layer (InputLayer)    [(None, 128, 438, 3)]     0         \n",
      "                                                                 \n",
      " block1_conv1 (Conv2D)       (None, 128, 438, 64)      1792      \n",
      "                                                                 \n",
      " block1_conv2 (Conv2D)       (None, 128, 438, 64)      36928     \n",
      "                                                                 \n",
      " block1_pool (MaxPooling2D)  (None, 64, 219, 64)       0         \n",
      "                                                                 \n",
      " block2_conv1 (Conv2D)       (None, 64, 219, 128)      73856     \n",
      "                                                                 \n",
      " block2_conv2 (Conv2D)       (None, 64, 219, 128)      147584    \n",
      "                                                                 \n",
      " block2_pool (MaxPooling2D)  (None, 32, 109, 128)      0         \n",
      "                                                                 \n",
      " block3_conv1 (Conv2D)       (None, 32, 109, 256)      295168    \n",
      "                                                                 \n",
      " block3_conv2 (Conv2D)       (None, 32, 109, 256)      590080    \n",
      "                                                                 \n",
      " block3_conv3 (Conv2D)       (None, 32, 109, 256)      590080    \n",
      "                                                                 \n",
      " block3_pool (MaxPooling2D)  (None, 16, 54, 256)       0         \n",
      "                                                                 \n",
      " block4_conv1 (Conv2D)       (None, 16, 54, 512)       1180160   \n",
      "                                                                 \n",
      " block4_conv2 (Conv2D)       (None, 16, 54, 512)       2359808   \n",
      "                                                                 \n",
      " block4_conv3 (Conv2D)       (None, 16, 54, 512)       2359808   \n",
      "                                                                 \n",
      " block4_pool (MaxPooling2D)  (None, 8, 27, 512)        0         \n",
      "                                                                 \n",
      " block5_conv1 (Conv2D)       (None, 8, 27, 512)        2359808   \n",
      "                                                                 \n",
      " block5_conv2 (Conv2D)       (None, 8, 27, 512)        2359808   \n",
      "                                                                 \n",
      " block5_conv3 (Conv2D)       (None, 8, 27, 512)        2359808   \n",
      "                                                                 \n",
      " block5_pool (MaxPooling2D)  (None, 4, 13, 512)        0         \n",
      "                                                                 \n",
      " reshape (Reshape)           (None, 1, 26624)          0         \n",
      "                                                                 \n",
      " lstm_layer (LSTM)           (None, 1, 128)            13697536  \n",
      "                                                                 \n",
      " dropout (Dropout)           (None, 1, 128)            0         \n",
      "                                                                 \n",
      " dense (Dense)               (None, 1, 128)            16512     \n",
      "                                                                 \n",
      " dense_1 (Dense)             (None, 1, 64)             8256      \n",
      "                                                                 \n",
      " dropout_1 (Dropout)         (None, 1, 64)             0         \n",
      "                                                                 \n",
      " dense_2 (Dense)             (None, 1, 48)             3120      \n",
      "                                                                 \n",
      " dropout_2 (Dropout)         (None, 1, 48)             0         \n",
      "                                                                 \n",
      " output_layer (Dense)        (None, 1, 10)             490       \n",
      "                                                                 \n",
      "=================================================================\n",
      "Total params: 28440602 (108.49 MB)\n",
      "Trainable params: 13725914 (52.36 MB)\n",
      "Non-trainable params: 14714688 (56.13 MB)\n",
      "_________________________________________________________________\n"
     ]
    }
   ],
   "source": [
    "def build_model(input_shape, num_classes):\n",
    "    # Define input layer\n",
    "    input_layer = Input(shape=input_shape, name='input_layer')\n",
    "\n",
    "    # Load pre-trained VGG16 model without top layer\n",
    "    vgg16 = VGG16(weights='imagenet', include_top=False, input_tensor=input_layer)\n",
    "\n",
    "    # Freeze VGG16 layers\n",
    "    for layer in vgg16.layers:\n",
    "        layer.trainable = False\n",
    "\n",
    "    # Extract features from VGG16\n",
    "    vgg16_features = vgg16.output\n",
    "    print(vgg16_features)\n",
    "    \n",
    "    reshaped_output = Reshape(target_shape=(1, -1))(vgg16_features) \n",
    "\n",
    "    # Add LSTM layer\n",
    "    lstm_layer_1 = LSTM(units=128, name='lstm_layer', return_sequences = True)(reshaped_output)\n",
    "    \n",
    "    dropout_1 = Dropout(0.2)(lstm_layer_1)\n",
    "    \n",
    "    dense_1 = Dense(128, activation = 'relu')(dropout_1)\n",
    "    dense_2 = Dense(64, activation = 'relu')(dense_1)\n",
    "    \n",
    "    dropout_2 = Dropout(0.4)(dense_2)\n",
    "    \n",
    "    dense_3 = Dense(48, activation = 'relu')(dropout_2)\n",
    "    \n",
    "    dropout_3 = Dropout(0.4)(dense_3)\n",
    "\n",
    "    # Add output layer for classification\n",
    "    output_layer = Dense(num_classes, activation='softmax', name='output_layer')(dropout_3)\n",
    "\n",
    "    # Define model\n",
    "    model = Model(inputs=input_layer, outputs=output_layer)\n",
    "\n",
    "    return model\n",
    "\n",
    "\n",
    "input_shape = (128, 438, 3)  \n",
    "num_classes = 10  \n",
    "\n",
    "# Build the model\n",
    "model = build_model(input_shape, num_classes)\n",
    "\n",
    "# Compile the model\n",
    "model.compile(optimizer=Adam(lr=0.001), loss='categorical_crossentropy', metrics=['accuracy'])\n",
    "\n",
    "# Print model summary\n",
    "model.summary()"
   ]
  },
  {
   "cell_type": "code",
   "execution_count": 34,
   "id": "7ed90323",
   "metadata": {},
   "outputs": [],
   "source": [
    "batch_size = 50\n",
    "with open('test_set.pkl', 'rb') as f:\n",
    "    test_generator = data_generator(f, batch_size)\n",
    "\n",
    "with open('train_set.pkl', 'rb') as f:\n",
    "    train_generator = data_generator(f, batch_size)\n",
    "    \n",
    "train_steps_per_epoch = len(X_train) // batch_size\n",
    "test_steps_per_epoch = len(X_test) // batch_size\n",
    "\n",
    "model.fit(train_generator,\n",
    "         steps_per_epoch = train_steps_per_epoch,\n",
    "         epochs = 5,\n",
    "         )\n",
    "\n"
   ]
  },
  {
   "cell_type": "code",
   "execution_count": 33,
   "id": "ef2402f0",
   "metadata": {},
   "outputs": [
    {
     "data": {
      "text/plain": [
       "353"
      ]
     },
     "execution_count": 33,
     "metadata": {},
     "output_type": "execute_result"
    }
   ],
   "source": [
    "train_steps_per_epoch"
   ]
  }
 ],
 "metadata": {
  "kernelspec": {
   "display_name": "Python [conda env:tf-gpu] *",
   "language": "python",
   "name": "conda-env-tf-gpu-py"
  },
  "language_info": {
   "codemirror_mode": {
    "name": "ipython",
    "version": 3
   },
   "file_extension": ".py",
   "mimetype": "text/x-python",
   "name": "python",
   "nbconvert_exporter": "python",
   "pygments_lexer": "ipython3",
   "version": "3.9.18"
  }
 },
 "nbformat": 4,
 "nbformat_minor": 5
}
