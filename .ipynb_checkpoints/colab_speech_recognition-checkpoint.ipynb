{
 "cells": [
  {
   "cell_type": "code",
   "execution_count": 13,
   "id": "27bd2300",
   "metadata": {
    "colab": {
     "base_uri": "https://localhost:8080/"
    },
    "executionInfo": {
     "elapsed": 21861,
     "status": "ok",
     "timestamp": 1709529742676,
     "user": {
      "displayName": "Juan Acosta",
      "userId": "08899351990579083374"
     },
     "user_tz": 300
    },
    "id": "27bd2300",
    "outputId": "fda58f61-f3db-40b7-89ec-de3537616c8c"
   },
   "outputs": [],
   "source": [
    "import pandas as pd\n",
    "import numpy as np\n",
    "import librosa\n",
    "import os\n",
    "import pickle\n",
    "import tensorflow as tf\n",
    "\n",
    "from sklearn.preprocessing import LabelEncoder, OneHotEncoder\n",
    "from sklearn.model_selection import train_test_split\n",
    "\n",
    "from tensorflow.keras.models import Model\n",
    "from tensorflow.keras import Sequential\n",
    "from tensorflow.keras.layers import LSTM, Dense, Input, Dropout, Flatten, Reshape, TimeDistributed, GlobalAveragePooling2D,GlobalAveragePooling1D, Bidirectional\n",
    "    \n",
    "from tensorflow.keras.applications import VGG16\n",
    "from tensorflow.keras.optimizers import Adam\n",
    "from tensorflow.keras.callbacks import ModelCheckpoint\n",
    "\n",
    "# from google.colab import drive\n",
    "# drive.mount('/content/drive')\n"
   ]
  },
  {
   "cell_type": "markdown",
   "id": "085e721f",
   "metadata": {},
   "source": [
    "## Datasets"
   ]
  },
  {
   "cell_type": "code",
   "execution_count": 19,
   "id": "3611badd",
   "metadata": {
    "id": "3611badd"
   },
   "outputs": [],
   "source": [
    "clips = 'common_voice/en/clips'\n",
    "clip_durations = 'common_voice/en/clip_durations.tsv'\n",
    "invalidated = 'common_voice/en/invalidated.tsv'\n",
    "other = 'common_voice/en/other.tsv'\n",
    "reported = 'common_voice/en/reported.tsv'\n",
    "validated = 'common_voice/en/validated.tsv'"
   ]
  },
  {
   "cell_type": "code",
   "execution_count": 20,
   "id": "63a3417f",
   "metadata": {
    "id": "63a3417f"
   },
   "outputs": [],
   "source": [
    "durations_df = pd.read_csv(clip_durations, sep = '\\t')\n",
    "inv_df = pd.read_csv(invalidated, sep = '\\t')\n",
    "other_df = pd.read_csv(other, sep = '\\t')\n",
    "# rep_df = pd.read_csv(reported, sep = '\\t')\n",
    "val_df = pd.read_csv(validated, sep = '\\t')"
   ]
  },
  {
   "cell_type": "code",
   "execution_count": 21,
   "id": "9cc490a4",
   "metadata": {
    "id": "9cc490a4"
   },
   "outputs": [],
   "source": [
    "clips_number = len(os.listdir(clips))\n",
    "clips_number\n",
    "unique_speakers = other_df['client_id'].unique() #1654 different speakers"
   ]
  },
  {
   "cell_type": "code",
   "execution_count": 22,
   "id": "79bd4d30",
   "metadata": {
    "id": "79bd4d30",
    "outputId": "8e59c5af-995f-4434-f95c-6af611b46b0e"
   },
   "outputs": [
    {
     "name": "stdout",
     "output_type": "stream",
     "text": [
      "<class 'pandas.core.frame.DataFrame'>\n",
      "RangeIndex: 48861 entries, 0 to 48860\n",
      "Data columns (total 11 columns):\n",
      " #   Column      Non-Null Count  Dtype  \n",
      "---  ------      --------------  -----  \n",
      " 0   client_id   48861 non-null  object \n",
      " 1   path        48861 non-null  object \n",
      " 2   sentence    48861 non-null  object \n",
      " 3   up_votes    48861 non-null  int64  \n",
      " 4   down_votes  48861 non-null  int64  \n",
      " 5   age         37772 non-null  object \n",
      " 6   gender      37695 non-null  object \n",
      " 7   accents     34230 non-null  object \n",
      " 8   variant     0 non-null      float64\n",
      " 9   locale      48861 non-null  object \n",
      " 10  segment     0 non-null      float64\n",
      "dtypes: float64(2), int64(2), object(7)\n",
      "memory usage: 4.1+ MB\n"
     ]
    }
   ],
   "source": [
    "other_df.info()"
   ]
  },
  {
   "cell_type": "code",
   "execution_count": 23,
   "id": "a51f6615",
   "metadata": {
    "id": "a51f6615"
   },
   "outputs": [],
   "source": [
    "# Label encode the target which is 'client_id'\n",
    "le = LabelEncoder()\n",
    "other_df['target'] = le.fit_transform(other_df['client_id'])"
   ]
  },
  {
   "cell_type": "code",
   "execution_count": 24,
   "id": "d910df24",
   "metadata": {
    "id": "d910df24"
   },
   "outputs": [],
   "source": [
    "# Join other_df with durations_df\n",
    "other_df = other_df.merge(durations_df, how = 'inner', left_on = 'path', right_on = 'clip')\n",
    "other_df = other_df.drop('clip', axis = 1)"
   ]
  },
  {
   "cell_type": "code",
   "execution_count": 26,
   "id": "8e38f5f3",
   "metadata": {
    "id": "8e38f5f3",
    "outputId": "ac45f8af-3c31-494d-b7d2-5a0a2c412157"
   },
   "outputs": [
    {
     "name": "stdout",
     "output_type": "stream",
     "text": [
      "<class 'pandas.core.frame.DataFrame'>\n",
      "Index: 22114 entries, 122 to 42781\n",
      "Data columns (total 13 columns):\n",
      " #   Column        Non-Null Count  Dtype  \n",
      "---  ------        --------------  -----  \n",
      " 0   client_id     22114 non-null  object \n",
      " 1   path          22114 non-null  object \n",
      " 2   sentence      22114 non-null  object \n",
      " 3   up_votes      22114 non-null  int64  \n",
      " 4   down_votes    22114 non-null  int64  \n",
      " 5   age           22114 non-null  object \n",
      " 6   gender        22114 non-null  object \n",
      " 7   accents       22114 non-null  object \n",
      " 8   variant       0 non-null      float64\n",
      " 9   locale        22114 non-null  object \n",
      " 10  segment       0 non-null      float64\n",
      " 11  target        22114 non-null  int64  \n",
      " 12  duration[ms]  22114 non-null  int64  \n",
      "dtypes: float64(2), int64(4), object(7)\n",
      "memory usage: 2.4+ MB\n"
     ]
    }
   ],
   "source": [
    "#number of samples per target\n",
    "value_counts = other_df['target'].value_counts()\n",
    "\n",
    "# targets > 1000 datapoints\n",
    "targets = np.array(value_counts[value_counts > 1000].index)\n",
    "\n",
    "# Datapoints to be used in the model\n",
    "model_df = other_df.loc[other_df['target'].isin(targets)]\n",
    "\n",
    "model_df.info()"
   ]
  },
  {
   "cell_type": "markdown",
   "id": "9a2327b0",
   "metadata": {
    "id": "9a2327b0"
   },
   "source": [
    "### Features to extract\n",
    "- MFCCs\n",
    "- Chromagram\n",
    "- Mel-spectrogram\n",
    "- Spectral contrast\n",
    "- Tonal centroid (Tonnetz)"
   ]
  },
  {
   "cell_type": "markdown",
   "id": "7721e396",
   "metadata": {},
   "source": [
    "## Determining ideal length to clip or extend audio files "
   ]
  },
  {
   "cell_type": "code",
   "execution_count": 29,
   "id": "fc8e2f05",
   "metadata": {
    "id": "fc8e2f05",
    "outputId": "95137001-b822-44ce-b7e5-9d7cc690621d"
   },
   "outputs": [
    {
     "name": "stdout",
     "output_type": "stream",
     "text": [
      "Mean duration (ms): 6454.018268969883\n"
     ]
    },
    {
     "data": {
      "image/png": "[encoded data removed]",
      "text/plain": [
       "<Figure size 640x480 with 1 Axes>"
      ]
     },
     "metadata": {},
     "output_type": "display_data"
    }
   ],
   "source": [
    "seconds = model_df['duration[ms]']\n",
    "seconds.plot(kind = 'box');\n",
    "print(f'Mean duration (ms): {seconds.mean()}')"
   ]
  },
  {
   "cell_type": "markdown",
   "id": "45193fdc",
   "metadata": {},
   "source": [
    "## Preprocessing Functions "
   ]
  },
  {
   "cell_type": "code",
   "execution_count": 31,
   "id": "45afb3c6",
   "metadata": {
    "executionInfo": {
     "elapsed": 699,
     "status": "ok",
     "timestamp": 1709518690935,
     "user": {
      "displayName": "Juan Acosta",
      "userId": "08899351990579083374"
     },
     "user_tz": 300
    },
    "id": "45afb3c6"
   },
   "outputs": [],
   "source": [
    "# Normalizing the matrices\n",
    "def matrix_standard_scaler(matrix):\n",
    "    mean = matrix.mean()\n",
    "    std = matrix.std()\n",
    "    if std == 0:\n",
    "        std = 1e-8\n",
    "    norm_matrix = (matrix - mean) / std\n",
    "    return norm_matrix"
   ]
  },
  {
   "cell_type": "code",
   "execution_count": 32,
   "id": "e08428e5",
   "metadata": {
    "id": "e08428e5"
   },
   "outputs": [
    {
     "name": "stdout",
     "output_type": "stream",
     "text": [
      "Mel spectrogram shape: (128, 113)\n"
     ]
    }
   ],
   "source": [
    "# Gets audio file path and returns a normalized mel-spectrogram 7 seconds long\n",
    "# Mel spectrogram is zero-padded or clipped if necessary\n",
    "def load_and_preprocess_audio(audio_path, target_duration=7):\n",
    "    # Load audio file\n",
    "    audio, sr = librosa.load(audio_path, sr=None)\n",
    "\n",
    "    # Clip or zero-pad audio to match target duration\n",
    "    if len(audio) > sr * target_duration:\n",
    "        # Clip audio to target duration\n",
    "        audio = audio[:sr * target_duration]\n",
    "    elif len(audio) < sr * target_duration:\n",
    "        # Zero-pad audio to target duration\n",
    "        pad_width = sr * target_duration - len(audio)\n",
    "        audio = np.pad(audio, (0, pad_width), mode='constant')\n",
    "\n",
    "        # Define the replacement value (in dB)\n",
    "        replacement_value = -80\n",
    "\n",
    "        # Find indices of non-zero values\n",
    "        non_zero_indices = audio != 0\n",
    "\n",
    "        # Replace zeros with the chosen value\n",
    "        audio[~non_zero_indices] = replacement_value\n",
    "\n",
    "    # Extract Mel spectrogram\n",
    "    mel_spectrogram = librosa.feature.melspectrogram(y=audio, sr=sr, hop_length = 2000)\n",
    "    norm_ms = matrix_standard_scaler(mel_spectrogram)\n",
    "\n",
    "    return norm_ms\n",
    "\n",
    "\n",
    "audio_path = clips + \"/\" + os.listdir(clips)[4]\n",
    "mel_spectrogram = load_and_preprocess_audio(audio_path)\n",
    "\n",
    "# Check shape of the Mel spectrogram\n",
    "print(\"Mel spectrogram shape:\", mel_spectrogram.shape)\n"
   ]
  },
  {
   "cell_type": "code",
   "execution_count": 33,
   "id": "ec461c54",
   "metadata": {},
   "outputs": [],
   "source": [
    "# Function to pickle X and y\n",
    "# X is spectrograms, y is target\n",
    "\n",
    "def pickle_sgrams(X, y, new_file_name):\n",
    "    # Path to access audio files\n",
    "    full_paths = clips + '/' + X\n",
    "    # Extract mel-spectrograms and preprocess them\n",
    "    mel_sgrams = full_paths.apply(lambda x: load_and_preprocess_audio(x))\n",
    "    # Pickle files as (X, y) tuples\n",
    "    with open(new_file_name, 'wb') as f:\n",
    "        pickle.dump((mel_sgrams, y), f)\n",
    "    return"
   ]
  },
  {
   "cell_type": "markdown",
   "id": "73fd2de3",
   "metadata": {},
   "source": [
    "## Train/test split of the DataFrame"
   ]
  },
  {
   "cell_type": "code",
   "execution_count": 239,
   "id": "01b23bad",
   "metadata": {
    "id": "01b23bad"
   },
   "outputs": [],
   "source": [
    "X = model_df['path']\n",
    "y = model_df['target']\n",
    "X_trainval, X_test, y_trainval, y_test = train_test_split(X, y, test_size = 0.2, stratify = y, random_state = 42)\n",
    "X_train, X_val, y_train, y_val = train_test_split(X_trainval, y_trainval, test_size = 0.2, stratify = y_trainval, random_state = 42)\n",
    "\n",
    "def pickle_sgrams(X, y, new_file_name):\n",
    "    # Path to access audio files\n",
    "    full_paths = clips + '/' + X\n",
    "    # Extract mel-spectrograms and preprocess them\n",
    "    mel_sgrams = full_paths.apply(lambda x: load_and_preprocess_audio(x))\n",
    "    # Pickle files as (X, y) tuples\n",
    "    with open(new_file_name, 'wb') as f:\n",
    "        pickle.dump((mel_sgrams, y), f)\n",
    "    return\n"
   ]
  },
  {
   "cell_type": "markdown",
   "id": "b5ace6d0",
   "metadata": {},
   "source": [
    "## Pickling train, test, and validation set"
   ]
  },
  {
   "cell_type": "code",
   "execution_count": 240,
   "id": "1f599aef",
   "metadata": {
    "id": "1f599aef"
   },
   "outputs": [],
   "source": [
    "pickle_sgrams(X_train, y_train, 'train_set.pkl')\n",
    "pickle_sgrams(X_test, y_test, 'test_set.pkl')\n",
    "pickle_sgrams(X_val, y_val, 'validation_set.pkl')"
   ]
  },
  {
   "cell_type": "markdown",
   "id": "b3cc9abc",
   "metadata": {},
   "source": [
    "### Neural Network \n",
    "mel-sgram shape: 128 x 113"
   ]
  },
  {
   "cell_type": "code",
   "execution_count": 34,
   "id": "39d6897a",
   "metadata": {},
   "outputs": [
    {
     "name": "stdout",
     "output_type": "stream",
     "text": [
      "Model: \"sequential_7\"\n",
      "_________________________________________________________________\n",
      " Layer (type)                Output Shape              Param #   \n",
      "=================================================================\n",
      " lstm_7 (LSTM)               (None, 128, 64)           45568     \n",
      "                                                                 \n",
      " global_average_pooling1d_7  (None, 64)                0         \n",
      "  (GlobalAveragePooling1D)                                       \n",
      "                                                                 \n",
      " flatten_8 (Flatten)         (None, 64)                0         \n",
      "                                                                 \n",
      " dense_17 (Dense)            (None, 64)                4160      \n",
      "                                                                 \n",
      " dropout_10 (Dropout)        (None, 64)                0         \n",
      "                                                                 \n",
      " dense_18 (Dense)            (None, 10)                650       \n",
      "                                                                 \n",
      "=================================================================\n",
      "Total params: 50378 (196.79 KB)\n",
      "Trainable params: 50378 (196.79 KB)\n",
      "Non-trainable params: 0 (0.00 Byte)\n",
      "_________________________________________________________________\n"
     ]
    }
   ],
   "source": [
    "def lstm_network(num_classes):\n",
    "    \n",
    "    model = Sequential()\n",
    "\n",
    "    model.add(LSTM(units=64, input_shape=(128, 113), return_sequences=True))\n",
    "\n",
    "#     model.add(TimeDistributed(Dense(1)))\n",
    "    \n",
    "#     model.add(Reshape((-1, 1)))\n",
    "    \n",
    "    model.add(GlobalAveragePooling1D()) #(pool_size = 113))\n",
    "\n",
    "    model.add(Flatten())\n",
    "    \n",
    "#     model.add(Dropout(0.2))\n",
    "\n",
    "#     model.add(Dense(128, activation = 'relu'))\n",
    "    \n",
    "    model.add(Dense(64, activation = 'relu'))\n",
    "\n",
    "#     model.add(Dropout(0.4))\n",
    "\n",
    "#     model.add(Dense(48, activation = 'relu'))\n",
    "\n",
    "    model.add(Dropout(0.4))\n",
    "\n",
    "#     model.add(Flatten())\n",
    "\n",
    "    # Output layer\n",
    "    model.add(Dense(units=num_classes, activation='softmax'))\n",
    "\n",
    "    return model\n",
    "              \n",
    "lstm_model = lstm_network(10)\n",
    "\n",
    "checkpoint_filepath = 'checkpoint.model.keras'\n",
    "model_checkpoint_callback = ModelCheckpoint(\n",
    "    filepath=checkpoint_filepath,\n",
    "    monitor='val_accuracy',\n",
    "    mode='max',\n",
    "    save_best_only=True)\n",
    "              \n",
    "# Compile the model\n",
    "lstm_model.compile(optimizer='adam', loss='categorical_crossentropy', metrics=['accuracy'])\n",
    "\n",
    "lstm_model.summary()\n"
   ]
  },
  {
   "cell_type": "markdown",
   "id": "cbe82cac",
   "metadata": {},
   "source": [
    "## Training"
   ]
  },
  {
   "cell_type": "code",
   "execution_count": 35,
   "id": "aba38673",
   "metadata": {},
   "outputs": [
    {
     "name": "stdout",
     "output_type": "stream",
     "text": [
      "Epoch 1/100\n"
     ]
    },
    {
     "name": "stderr",
     "output_type": "stream",
     "text": [
      "2024-03-04 19:39:51.208679: I tensorflow/core/grappler/optimizers/custom_graph_optimizer_registry.cc:114] Plugin optimizer for device_type GPU is enabled.\n",
      "2024-03-04 19:39:51.464168: I tensorflow/core/grappler/optimizers/custom_graph_optimizer_registry.cc:114] Plugin optimizer for device_type GPU is enabled.\n",
      "2024-03-04 19:39:51.792623: I tensorflow/core/grappler/optimizers/custom_graph_optimizer_registry.cc:114] Plugin optimizer for device_type GPU is enabled.\n"
     ]
    },
    {
     "name": "stdout",
     "output_type": "stream",
     "text": [
      "354/354 [==============================] - ETA: 0s - loss: 2.1144 - accuracy: 0.2338"
     ]
    },
    {
     "name": "stderr",
     "output_type": "stream",
     "text": [
      "2024-03-04 19:40:05.727634: I tensorflow/core/grappler/optimizers/custom_graph_optimizer_registry.cc:114] Plugin optimizer for device_type GPU is enabled.\n",
      "2024-03-04 19:40:05.796435: I tensorflow/core/grappler/optimizers/custom_graph_optimizer_registry.cc:114] Plugin optimizer for device_type GPU is enabled.\n"
     ]
    },
    {
     "ename": "ValueError",
     "evalue": "The following argument(s) are not supported with the native Keras format: ['options']",
     "output_type": "error",
     "traceback": [
      "\u001b[0;31m---------------------------------------------------------------------------\u001b[0m",
      "\u001b[0;31mValueError\u001b[0m                                Traceback (most recent call last)",
      "Cell \u001b[0;32mIn[35], line 20\u001b[0m\n\u001b[1;32m     15\u001b[0m         validation_data \u001b[38;5;241m=\u001b[39m pickle\u001b[38;5;241m.\u001b[39mload(f_2)\n\u001b[1;32m     16\u001b[0m         x_val, y_val \u001b[38;5;241m=\u001b[39m validation_data\n\u001b[0;32m---> 20\u001b[0m \u001b[43mlstm_model\u001b[49m\u001b[38;5;241;43m.\u001b[39;49m\u001b[43mfit\u001b[49m\u001b[43m(\u001b[49m\u001b[43mX_train\u001b[49m\u001b[43m,\u001b[49m\n\u001b[1;32m     21\u001b[0m \u001b[43m               \u001b[49m\u001b[43my_train\u001b[49m\u001b[43m,\u001b[49m\n\u001b[1;32m     22\u001b[0m \u001b[43m               \u001b[49m\u001b[43mepochs\u001b[49m\u001b[43m \u001b[49m\u001b[38;5;241;43m=\u001b[39;49m\u001b[43m \u001b[49m\u001b[38;5;241;43m100\u001b[39;49m\u001b[43m,\u001b[49m\n\u001b[1;32m     23\u001b[0m \u001b[43m               \u001b[49m\u001b[43mcallbacks\u001b[49m\u001b[43m \u001b[49m\u001b[38;5;241;43m=\u001b[39;49m\u001b[43m \u001b[49m\u001b[43mmodel_checkpoint_callback\u001b[49m\u001b[43m,\u001b[49m\n\u001b[1;32m     24\u001b[0m \u001b[43m              \u001b[49m\u001b[43mvalidation_split\u001b[49m\u001b[43m \u001b[49m\u001b[38;5;241;43m=\u001b[39;49m\u001b[43m \u001b[49m\u001b[38;5;241;43m0.2\u001b[39;49m\u001b[43m)\u001b[49m\n",
      "File \u001b[0;32m~/anaconda3/envs/tf-gpu/lib/python3.9/site-packages/keras/src/utils/traceback_utils.py:70\u001b[0m, in \u001b[0;36mfilter_traceback.<locals>.error_handler\u001b[0;34m(*args, **kwargs)\u001b[0m\n\u001b[1;32m     67\u001b[0m     filtered_tb \u001b[38;5;241m=\u001b[39m _process_traceback_frames(e\u001b[38;5;241m.\u001b[39m__traceback__)\n\u001b[1;32m     68\u001b[0m     \u001b[38;5;66;03m# To get the full stack trace, call:\u001b[39;00m\n\u001b[1;32m     69\u001b[0m     \u001b[38;5;66;03m# `tf.debugging.disable_traceback_filtering()`\u001b[39;00m\n\u001b[0;32m---> 70\u001b[0m     \u001b[38;5;28;01mraise\u001b[39;00m e\u001b[38;5;241m.\u001b[39mwith_traceback(filtered_tb) \u001b[38;5;28;01mfrom\u001b[39;00m \u001b[38;5;28;01mNone\u001b[39;00m\n\u001b[1;32m     71\u001b[0m \u001b[38;5;28;01mfinally\u001b[39;00m:\n\u001b[1;32m     72\u001b[0m     \u001b[38;5;28;01mdel\u001b[39;00m filtered_tb\n",
      "File \u001b[0;32m~/anaconda3/envs/tf-gpu/lib/python3.9/site-packages/keras/src/saving/saving_api.py:142\u001b[0m, in \u001b[0;36msave_model\u001b[0;34m(model, filepath, overwrite, save_format, **kwargs)\u001b[0m\n\u001b[1;32m    140\u001b[0m             \u001b[38;5;28;01mreturn\u001b[39;00m\n\u001b[1;32m    141\u001b[0m     \u001b[38;5;28;01mif\u001b[39;00m kwargs:\n\u001b[0;32m--> 142\u001b[0m         \u001b[38;5;28;01mraise\u001b[39;00m \u001b[38;5;167;01mValueError\u001b[39;00m(\n\u001b[1;32m    143\u001b[0m             \u001b[38;5;124m\"\u001b[39m\u001b[38;5;124mThe following argument(s) are not supported \u001b[39m\u001b[38;5;124m\"\u001b[39m\n\u001b[1;32m    144\u001b[0m             \u001b[38;5;124mf\u001b[39m\u001b[38;5;124m\"\u001b[39m\u001b[38;5;124mwith the native Keras format: \u001b[39m\u001b[38;5;132;01m{\u001b[39;00m\u001b[38;5;28mlist\u001b[39m(kwargs\u001b[38;5;241m.\u001b[39mkeys())\u001b[38;5;132;01m}\u001b[39;00m\u001b[38;5;124m\"\u001b[39m\n\u001b[1;32m    145\u001b[0m         )\n\u001b[1;32m    146\u001b[0m     saving_lib\u001b[38;5;241m.\u001b[39msave_model(model, filepath)\n\u001b[1;32m    147\u001b[0m \u001b[38;5;28;01melse\u001b[39;00m:\n\u001b[1;32m    148\u001b[0m     \u001b[38;5;66;03m# Legacy case\u001b[39;00m\n",
      "\u001b[0;31mValueError\u001b[0m: The following argument(s) are not supported with the native Keras format: ['options']"
     ]
    }
   ],
   "source": [
    "with open('train_set.pkl', 'rb') as f:\n",
    "    training_data = pickle.load(f)\n",
    "#     train_set = data_generator(training_data)\n",
    "    X_train, y_train = training_data\n",
    "    ohe = OneHotEncoder(sparse_output = False)\n",
    "    y_train = ohe.fit_transform(np.array(y_train).reshape(-1, 1))\n",
    "\n",
    "    # Stack matrices into a single tensor\n",
    "    X_train = np.stack(X_train)\n",
    "\n",
    "    # Reshape the stacked tensor to remove outer dimensions\n",
    "    X_train = X_train.reshape(-1, *X_train[0].shape)\n",
    "\n",
    "with open('validation_set.pkl', 'rb') as f_2:\n",
    "        validation_data = pickle.load(f_2)\n",
    "        x_val, y_val = validation_data\n",
    "\n",
    "\n",
    "\n",
    "lstm_model.fit(X_train,\n",
    "               y_train,\n",
    "               epochs = 100,\n",
    "               callbacks = model_checkpoint_callback,\n",
    "              validation_split = 0.2)"
   ]
  },
  {
   "cell_type": "code",
   "execution_count": null,
   "id": "c2aee4c3",
   "metadata": {},
   "outputs": [],
   "source": []
  }
 ],
 "metadata": {
  "accelerator": "TPU",
  "colab": {
   "machine_shape": "hm",
   "provenance": []
  },
  "kernelspec": {
   "display_name": "Python [conda env:tf-gpu] *",
   "language": "python",
   "name": "conda-env-tf-gpu-py"
  },
  "language_info": {
   "codemirror_mode": {
    "name": "ipython",
    "version": 3
   },
   "file_extension": ".py",
   "mimetype": "text/x-python",
   "name": "python",
   "nbconvert_exporter": "python",
   "pygments_lexer": "ipython3",
   "version": "3.9.18"
  }
 },
 "nbformat": 4,
 "nbformat_minor": 5
}
